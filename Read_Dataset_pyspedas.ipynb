{
  "cells": [
    {
      "cell_type": "markdown",
      "metadata": {
        "colab_type": "text",
        "id": "view-in-github"
      },
      "source": [
        "<a href=\"https://colab.research.google.com/github/maetthil/NASASpaceApps/blob/main/Read_Dataset.ipynb\" target=\"_parent\"><img src=\"https://colab.research.google.com/assets/colab-badge.svg\" alt=\"Open In Colab\"/></a>"
      ]
    },
    {
      "cell_type": "code",
      "execution_count": 10,
      "metadata": {
        "id": "iSi2R7CfEDMl"
      },
      "outputs": [
        {
          "name": "stdout",
          "output_type": "stream",
          "text": [
            "IOStream.flush timed out\n",
            "IOStream.flush timed out\n",
            "Collecting pyarrow\n",
            "  Downloading pyarrow-9.0.0-cp39-cp39-macosx_10_13_x86_64.whl (24.0 MB)\n",
            "\u001b[2K     \u001b[90m━━━━━━━━━━━━━━━━━━━━━━━━━━━━━━━━━━━━━━━━\u001b[0m \u001b[32m24.0/24.0 MB\u001b[0m \u001b[31m2.7 MB/s\u001b[0m eta \u001b[36m0:00:00\u001b[0m00:01\u001b[0m00:01\u001b[0m\n",
            "\u001b[?25hRequirement already satisfied: numpy>=1.16.6 in /opt/anaconda3/envs/spaceData/lib/python3.9/site-packages (from pyarrow) (1.23.3)\n",
            "Installing collected packages: pyarrow\n",
            "Successfully installed pyarrow-9.0.0\n"
          ]
        }
      ],
      "source": [
        "# %%capture\n",
        "!pip install cdflib\n",
        "!pip install pyspedas\n",
        "!pip install matplotlib==3.1.2\n",
        "!pip install pyarrow"
      ]
    },
    {
      "cell_type": "code",
      "execution_count": null,
      "metadata": {
        "id": "M8k7JUZjWCaB"
      },
      "outputs": [
        {
          "ename": "",
          "evalue": "",
          "output_type": "error",
          "traceback": [
            "\u001b[1;31mFalha ao iniciar o Kernel. \n",
            "\u001b[1;31mNão é possível iniciar o Kernel \"Python 3.9.13\" devido ao tempo limite da conexão. \n",
            "\u001b[1;31mConsulte o <a href='command:jupyter.viewOutput'>log</a> do Jupyter para obter mais detalhes."
          ]
        }
      ],
      "source": [
        "import calendar\n",
        "import datetime\n",
        "from typing import List, Tuple, NoReturn\n",
        "import glob\n",
        "import os\n",
        "import re\n",
        "import sys\n",
        "\n",
        "import matplotlib.pyplot as plt\n",
        "import numpy as np\n",
        "import requests\n",
        "import pandas as pd\n",
        "import pytz\n",
        "import pyspedas\n",
        "import pytplot\n",
        "from pytplot import tplot\n",
        "from tqdm import tqdm"
      ]
    },
    {
      "cell_type": "markdown",
      "metadata": {},
      "source": [
        "\n",
        "## Magnetic Field"
      ]
    },
    {
      "cell_type": "code",
      "execution_count": 29,
      "metadata": {},
      "outputs": [],
      "source": [
        "def getMagneticField(\n",
        "    satellite: str = \"wind\", \n",
        "    trange: List[str] = ['2018-01-01',\n",
        "                         '2018-01-10']) -> Tuple[pd.DataFrame, str]:\n",
        "    \"\"\"Realiza o download do conjunto de dados de campo magnético.\n",
        "    \n",
        "    Args:\n",
        "        satellite: Satélite que foi usado para capturar os resultados.\n",
        "        trange: Uma lista de strings representando o intervalo fechado \n",
        "          usado para filtrar os dados.\n",
        "    Return:\n",
        "        Uma tupla representando uma instância de `pd.DataFrame` e uma \n",
        "          string com o caminho onde será armazenado.\n",
        "    \"\"\"\n",
        "    pytplot.del_data()\n",
        "    if satellite == \"wind\":\n",
        "        vars = pyspedas.wind.mfi(trange=trange)\n",
        "        quants_mag = pytplot.data_quants['BGSE']\n",
        "        mag = quants_mag.values\n",
        "    else:\n",
        "        mag = pyspedas.dscovr.mag(trange=trange)\n",
        "        quants_mag = pytplot.data_quants['dsc_h0_mag_B1GSE']\n",
        "        mag = quants_mag.values\n",
        "        mag[mag == -1e+31] = np.nan\n",
        "\n",
        "    time_mag = quants_mag.coords['time'].values\n",
        "    time_mag = [datetime.datetime.fromtimestamp(\n",
        "        i, pytz.timezone(\"UTC\")) for i in time_mag]\n",
        "\n",
        "    df_mag = pd.DataFrame({\n",
        "        \"Bx_GSE\": mag[:,0], \n",
        "        \"By_GSE\": mag[:,1],\n",
        "        \"Bz_GSE\": mag[:,2]}, index=time_mag)\n",
        "    filePath = \"mag\"\n",
        "    return df_mag, filePath"
      ]
    },
    {
      "cell_type": "markdown",
      "metadata": {},
      "source": [
        "## Ion Plasma"
      ]
    },
    {
      "cell_type": "code",
      "execution_count": 30,
      "metadata": {},
      "outputs": [],
      "source": [
        "def getIonPlasma(\n",
        "    satellite: str = \"wind\",\n",
        "    trange: List[str] = ['2018-01-01', \n",
        "                         '2018-01-10']) -> Tuple[pd.DataFrame, str]:\n",
        "    \"\"\"Realiza o download do conjunto de dados de plasmas.\n",
        "    \n",
        "    Args:\n",
        "        satellite: Satélite que foi usado para capturar os resultados.\n",
        "        trange: Uma lista de strings representando o intervalo fechado \n",
        "          usado para filtrar os dados.\n",
        "    Return:\n",
        "        Uma tupla representando uma instância de `pd.DataFrame` e uma \n",
        "          string com o caminho onde será armazenado.\n",
        "    \"\"\"\n",
        "    pytplot.del_data()\n",
        "    if satellite == \"wind\":\n",
        "        vars = pyspedas.wind.swe(trange=trange)\n",
        "        quants_vGSE = pytplot.data_quants['U_eGSE']\n",
        "        quants_therSp = pytplot.data_quants['T_elec']\n",
        "        quants_Np = pytplot.data_quants['N_elec']\n",
        "\n",
        "        vGSE = quants_vGSE.values\n",
        "        therSp = quants_therSp.values\n",
        "        Np = quants_Np.values\n",
        "    else:\n",
        "        vars = pyspedas.dscovr.fc(trange=trange)\n",
        "\n",
        "        quants_vGSE = pytplot.data_quants['dsc_h1_fc_V_GSE']\n",
        "        quants_therSp = pytplot.data_quants['dsc_h1_fc_THERMAL_SPD']\n",
        "        quants_Np = pytplot.data_quants['dsc_h1_fc_Np']\n",
        "\n",
        "        vGSE = quants_vGSE.values\n",
        "        therSp = quants_therSp.values\n",
        "        Np = quants_Np.values\n",
        "\n",
        "        vGSE[vGSE == -1e+31] = np.nan\n",
        "        therSp[therSp == -1e+31] = np.nan\n",
        "        Np[Np == -1e+31] = np.nan\n",
        "\n",
        "    time_fc = quants_vGSE.coords['time'].values\n",
        "    time_fc = [datetime.datetime.fromtimestamp(\n",
        "        i, pytz.timezone(\"UTC\")) for i in time_fc]\n",
        "\n",
        "    df_ions = pd.DataFrame({\n",
        "        \"Vx_GSE\": vGSE[:,0], \n",
        "        \"Vy_GSE\": vGSE[:,1],\n",
        "        \"Vz_GSE\": vGSE[:,2],\n",
        "        \"Therm_spd\": therSp,\n",
        "        \"Np\":Np}, index = time_fc)\n",
        "    filePath = \"ions\"\n",
        "    return df_ions, filePath"
      ]
    },
    {
      "cell_type": "code",
      "execution_count": null,
      "metadata": {},
      "outputs": [],
      "source": [
        "ions = getIonPlasma(satellite=\"dscovr\", trange=['2018-01-01', '2018-01-10'])\n",
        "ions.head()"
      ]
    },
    {
      "cell_type": "code",
      "execution_count": null,
      "metadata": {},
      "outputs": [],
      "source": [
        "mag = getMagneticField(satellite=\"dscovr\", trange=['2018-01-01', '2018-01-10'])\n",
        "mag.head()"
      ]
    },
    {
      "cell_type": "code",
      "execution_count": 35,
      "metadata": {},
      "outputs": [],
      "source": [
        "def downloadSaveParquet(\n",
        "    downloadFunc: callable,\n",
        "    sat: str,\n",
        "    yearInterval: List[int],\n",
        "    monthInterval: List[int]) -> NoReturn:\n",
        "    \"\"\"Transforma um arquivo .CDF em um arquivo .parquet.\n",
        "    \n",
        "    Args:\n",
        "        downloadFunc: Função de download de um conjunto de dados.\n",
        "        sat: Satélite que foi usado para capturar os resultados.\n",
        "        yearInterval: Uma intevalo fechado de anos para filtrar o \n",
        "          conjunto de dados.\n",
        "        monthInterval: Uma intevalo fechado de meses para filtrar o \n",
        "          conjunto de dados.\n",
        "    \"\"\"\n",
        "    for yr in tqdm(range(yearInterval[0], yearInterval[1])):\n",
        "        for mth in range(monthInterval[0], monthInterval[1]):\n",
        "            lastDay = calendar.monthrange(yr, mth)[1]\n",
        "            try:\n",
        "                range_list = [f'{yr:04d}-{mth:02d}-01', f'{yr:04d}-{mth:02d}-{lastDay:02d}']\n",
        "                output, filepath = downloadFunc(satellite=sat, trange=range_list)\n",
        "                export_path = f'./parquetData/{filepath}_{yr:04d}-{mth:02d}_{sat}.parquet'\n",
        "                output.to_parquet(export_path, engine=\"pyarrow\")\n",
        "            except Exception as e:\n",
        "                print(\"Variavel nao encontrada\")\n",
        "\n"
      ]
    },
    {
      "cell_type": "code",
      "execution_count": null,
      "metadata": {},
      "outputs": [],
      "source": [
        "# 18h por instrumento, de cada satélites (para 6 anos) \n",
        "downloadSaveParquet(getMagneticField, sat=\"dscvr\", yearInterval=[2017, 2018], monthInterval=[1, 7])"
      ]
    },
    {
      "cell_type": "code",
      "execution_count": null,
      "metadata": {},
      "outputs": [],
      "source": [
        "# dados de ions do plasma 18h por instrumento, para cada sat[elite]\n",
        "downloadSaveParquet(getIonPlasma, sat=\"dscvr\", yearInterval=[2017, 2018], monthInterval=[1, 7])"
      ]
    },
    {
      "cell_type": "code",
      "execution_count": null,
      "metadata": {},
      "outputs": [],
      "source": [
        "downloadSaveParquet(getMagneticField, sat=\"wind\", yearInterval=[2017, 2018], monthInterval=[1, 7])"
      ]
    },
    {
      "cell_type": "code",
      "execution_count": null,
      "metadata": {},
      "outputs": [],
      "source": [
        "downloadSaveParquet(getIonPlasma, sat=\"wind\", yearInterval=[2017, 2018], monthInterval=[1, 7])"
      ]
    },
    {
      "cell_type": "markdown",
      "metadata": {},
      "source": [
        "## Série temporal "
      ]
    },
    {
      "cell_type": "code",
      "execution_count": null,
      "metadata": {},
      "outputs": [],
      "source": [
        "# A lot of ideas, but little data for processing."
      ]
    }
  ],
  "metadata": {
    "colab": {
      "collapsed_sections": [],
      "include_colab_link": true,
      "provenance": []
    },
    "kernelspec": {
      "display_name": "Python 3.9.13 64-bit (windows store)",
      "language": "python",
      "name": "python3"
    },
    "language_info": {
      "codemirror_mode": {
        "name": "ipython",
        "version": 3
      },
      "file_extension": ".py",
      "mimetype": "text/x-python",
      "name": "python",
      "nbconvert_exporter": "python",
      "pygments_lexer": "ipython3",
      "version": "3.9.13"
    },
    "vscode": {
      "interpreter": {
        "hash": "a4abf6c2225b0bdcce88164fb04a639c1d92c1becd90735eeb8a6648ec296b30"
      }
    }
  },
  "nbformat": 4,
  "nbformat_minor": 0
}
