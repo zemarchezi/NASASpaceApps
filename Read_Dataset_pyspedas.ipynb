{
  "cells": [
    {
      "cell_type": "markdown",
      "metadata": {
        "colab_type": "text",
        "id": "view-in-github"
      },
      "source": [
        "<a href=\"https://colab.research.google.com/github/maetthil/NASASpaceApps/blob/main/Read_Dataset.ipynb\" target=\"_parent\"><img src=\"https://colab.research.google.com/assets/colab-badge.svg\" alt=\"Open In Colab\"/></a>"
      ]
    },
    {
      "cell_type": "code",
      "execution_count": 10,
      "metadata": {
        "id": "iSi2R7CfEDMl"
      },
      "outputs": [
        {
          "name": "stdout",
          "output_type": "stream",
          "text": [
            "IOStream.flush timed out\n",
            "IOStream.flush timed out\n",
            "Collecting pyarrow\n",
            "  Downloading pyarrow-9.0.0-cp39-cp39-macosx_10_13_x86_64.whl (24.0 MB)\n",
            "\u001b[2K     \u001b[90m━━━━━━━━━━━━━━━━━━━━━━━━━━━━━━━━━━━━━━━━\u001b[0m \u001b[32m24.0/24.0 MB\u001b[0m \u001b[31m2.7 MB/s\u001b[0m eta \u001b[36m0:00:00\u001b[0m00:01\u001b[0m00:01\u001b[0m\n",
            "\u001b[?25hRequirement already satisfied: numpy>=1.16.6 in /opt/anaconda3/envs/spaceData/lib/python3.9/site-packages (from pyarrow) (1.23.3)\n",
            "Installing collected packages: pyarrow\n",
            "Successfully installed pyarrow-9.0.0\n"
          ]
        }
      ],
      "source": [
        "# # %%capture\n",
        "# !pip install cdflib\n",
        "# !pip install pyspedas\n",
        "# !pip install matplotlib==3.1.2\n",
        "!pip install pyarrow"
      ]
    },
    {
      "cell_type": "code",
      "execution_count": 28,
      "metadata": {
        "id": "M8k7JUZjWCaB"
      },
      "outputs": [],
      "source": [
        "import glob\n",
        "import sys\n",
        "import os\n",
        "import re\n",
        "import requests\n",
        "import numpy as np\n",
        "import pytz\n",
        "import datetime\n",
        "import calendar\n",
        "import pandas as pd\n",
        "from tqdm import tqdm\n",
        "\n",
        "import pyspedas\n",
        "from pytplot import tplot\n",
        "import pytplot\n",
        "\n",
        "import matplotlib.pyplot as plt"
      ]
    },
    {
      "cell_type": "markdown",
      "metadata": {},
      "source": [
        "\n",
        "## Magnetic Field"
      ]
    },
    {
      "cell_type": "code",
      "execution_count": 29,
      "metadata": {},
      "outputs": [],
      "source": [
        "def getMagneticField(satellite=\"wind\", trange=['2018-01-01', '2018-01-10']):\n",
        "    pytplot.del_data()\n",
        "    if satellite == \"wind\":\n",
        "        vars = pyspedas.wind.mfi(trange=trange)\n",
        "        quants_mag = pytplot.data_quants['BGSE']\n",
        "        mag = quants_mag.values\n",
        "\n",
        "        \n",
        "\n",
        "    else:\n",
        "        mag = pyspedas.dscovr.mag(trange=trange)\n",
        "        quants_mag = pytplot.data_quants['dsc_h0_mag_B1GSE']\n",
        "        mag = quants_mag.values\n",
        "        mag[mag == -1e+31] = np.nan\n",
        "\n",
        "    \n",
        "\n",
        "    time_mag = quants_mag.coords['time'].values\n",
        "    time_mag = [datetime.datetime.fromtimestamp(i, pytz.timezone(\"UTC\")) for i in time_mag]\n",
        "\n",
        "    df_mag = pd.DataFrame({\"Bx_GSE\": mag[:,0], \n",
        "                            \"By_GSE\": mag[:,1],\n",
        "                            \"Bz_GSE\": mag[:,2]}, index = time_mag)\n",
        "    filePath = \"mag\"\n",
        "    return df_mag, filePath"
      ]
    },
    {
      "cell_type": "markdown",
      "metadata": {},
      "source": [
        "## Ion Plasma"
      ]
    },
    {
      "cell_type": "code",
      "execution_count": 30,
      "metadata": {},
      "outputs": [],
      "source": [
        "def getIonPlasma(satellite=\"wind\", trange=['2018-01-01', '2018-01-10']):\n",
        "    pytplot.del_data()\n",
        "    if satellite == \"wind\":\n",
        "        vars = pyspedas.wind.swe(trange=trange)\n",
        "        quants_vGSE = pytplot.data_quants['U_eGSE']\n",
        "        quants_therSp = pytplot.data_quants['T_elec']\n",
        "        quants_Np = pytplot.data_quants['N_elec']\n",
        "\n",
        "        vGSE = quants_vGSE.values\n",
        "        therSp = quants_therSp.values\n",
        "        Np = quants_Np.values\n",
        "\n",
        "        \n",
        "\n",
        "    else:\n",
        "        vars = pyspedas.dscovr.fc(trange=trange)\n",
        "\n",
        "        quants_vGSE = pytplot.data_quants['dsc_h1_fc_V_GSE']\n",
        "        quants_therSp = pytplot.data_quants['dsc_h1_fc_THERMAL_SPD']\n",
        "        quants_Np = pytplot.data_quants['dsc_h1_fc_Np']\n",
        "\n",
        "        vGSE = quants_vGSE.values\n",
        "        therSp = quants_therSp.values\n",
        "        Np = quants_Np.values\n",
        "\n",
        "        vGSE[vGSE == -1e+31] = np.nan\n",
        "        therSp[therSp == -1e+31] = np.nan\n",
        "        Np[Np == -1e+31] = np.nan\n",
        "\n",
        "    \n",
        "\n",
        "    time_fc = quants_vGSE.coords['time'].values\n",
        "    time_fc = [datetime.datetime.fromtimestamp(i, pytz.timezone(\"UTC\")) for i in time_fc]\n",
        "\n",
        "    df_ions = pd.DataFrame({\"Vx_GSE\": vGSE[:,0], \n",
        "                             \"Vy_GSE\": vGSE[:,1],\n",
        "                             \"Vz_GSE\": vGSE[:,2],\n",
        "                             \"Therm_spd\": therSp,\n",
        "                             \"Np\":Np }, index = time_fc)\n",
        "    \n",
        "    filePath = \"ions\"\n",
        "\n",
        "    return df_ions, filePath"
      ]
    },
    {
      "cell_type": "code",
      "execution_count": null,
      "metadata": {},
      "outputs": [],
      "source": [
        "ions = getIonPlasma(satellite=\"dscovr\", trange=['2018-01-01', '2018-01-10'])\n",
        "ions.head()"
      ]
    },
    {
      "cell_type": "code",
      "execution_count": null,
      "metadata": {},
      "outputs": [],
      "source": [
        "mag = getMagneticField(satellite=\"dscovr\", trange=['2018-01-01', '2018-01-10'])\n",
        "mag.head()"
      ]
    },
    {
      "cell_type": "code",
      "execution_count": 35,
      "metadata": {},
      "outputs": [],
      "source": [
        "def downloadSaveParquet(downloadFunc, sat, yearInterval, monthInterval):\n",
        "    for yr in tqdm(range(yearInterval[0], yearInterval[1])):\n",
        "        for mth in range(monthInterval[0], monthInterval[1]):\n",
        "            lastDay = calendar.monthrange(yr, mth)[1]\n",
        "            try:\n",
        "                output, filepath = downloadFunc(satellite=sat, trange=[f'{yr:04d}-{mth:02d}-01', f'{yr:04d}-{mth:02d}-{lastDay:02d}'])\n",
        "                output.to_parquet(f'./parquetData/{filepath}_{yr:04d}-{mth:02d}_{sat}.parquet', engine=\"pyarrow\")\n",
        "            except Exception as e:\n",
        "                print(\"Variavel nao encontrada\")\n",
        "\n"
      ]
    },
    {
      "cell_type": "code",
      "execution_count": null,
      "metadata": {},
      "outputs": [],
      "source": [
        "# 18h por instrumento, de cada satélites (para 6 anos) \n",
        "downloadSaveParquet(getMagneticField, sat=\"dscvr\", yearInterval=[2017, 2018], monthInterval=[1, 7])"
      ]
    },
    {
      "cell_type": "code",
      "execution_count": null,
      "metadata": {},
      "outputs": [],
      "source": [
        "# dados de ions do plasma 18h por instrumento, para cada sat[elite]\n",
        "downloadSaveParquet(getIonPlasma, sat=\"dscvr\", yearInterval=[2017, 2018], monthInterval=[1, 7])"
      ]
    },
    {
      "cell_type": "code",
      "execution_count": null,
      "metadata": {},
      "outputs": [],
      "source": [
        "downloadSaveParquet(getMagneticField, sat=\"wind\", yearInterval=[2017, 2018], monthInterval=[1, 7])"
      ]
    },
    {
      "cell_type": "code",
      "execution_count": null,
      "metadata": {},
      "outputs": [],
      "source": [
        "downloadSaveParquet(getIonPlasma, sat=\"wind\", yearInterval=[2017, 2018], monthInterval=[1, 7])"
      ]
    },
    {
      "cell_type": "code",
      "execution_count": null,
      "metadata": {},
      "outputs": [],
      "source": []
    },
    {
      "cell_type": "code",
      "execution_count": null,
      "metadata": {},
      "outputs": [],
      "source": []
    }
  ],
  "metadata": {
    "colab": {
      "collapsed_sections": [],
      "include_colab_link": true,
      "provenance": []
    },
    "kernelspec": {
      "display_name": "Python 3.9.13 ('spaceData')",
      "language": "python",
      "name": "python3"
    },
    "language_info": {
      "codemirror_mode": {
        "name": "ipython",
        "version": 3
      },
      "file_extension": ".py",
      "mimetype": "text/x-python",
      "name": "python",
      "nbconvert_exporter": "python",
      "pygments_lexer": "ipython3",
      "version": "3.9.13"
    },
    "vscode": {
      "interpreter": {
        "hash": "7c6085bd5e91c7a12d809552c91998260825b9a7e8ca1e477c55f781c04711b7"
      }
    }
  },
  "nbformat": 4,
  "nbformat_minor": 0
}
